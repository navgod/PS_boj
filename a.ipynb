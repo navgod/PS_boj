{
 "cells": [
  {
   "cell_type": "code",
   "execution_count": null,
   "id": "2ec0a3db",
   "metadata": {},
   "outputs": [
    {
     "name": "stdout",
     "output_type": "stream",
     "text": [
      "15\n"
     ]
    }
   ],
   "source": [
    "import sys\n",
    "\n",
    "sys.stdin = open(\"sys.stdin.readline.txt\", \"r\")\n",
    "\n",
    "N, M = map(int , sys.stdin.readline().split())\n",
    "maze = [list(sys.stdin.readline())  for _ in range(N)]\n",
    "\n",
    "visited = [[0 for _ in range(M)] for _ in range(N)]\n",
    "\n",
    "from collections import deque\n",
    "\n",
    "Q = deque([(0,0,1)])\n",
    "visited[0][0] = 1\n",
    "dxs, dys = [1,-1,0,0] , [0,0,1,-1]\n",
    "\n",
    "def can_go(x,y):\n",
    "    return 0<=x <N and 0<= y <M and maze[x][y] == '1'\n",
    "\n",
    "while Q:\n",
    "    x, y , dis = Q.popleft()\n",
    "    if x == N-1 and y == M-1:\n",
    "        print(dis)\n",
    "        break\n",
    "    for dx, dy in zip(dxs,dys):\n",
    "        nx, ny = x + dx, y + dy\n",
    "        if can_go(nx,ny) and not visited[nx][ny]:\n",
    "            Q.append((nx,ny,dis+1))\n",
    "            visited[nx][ny] = 1"
   ]
  },
  {
   "cell_type": "code",
   "execution_count": null,
   "id": "921e8279",
   "metadata": {},
   "outputs": [
    {
     "name": "stdout",
     "output_type": "stream",
     "text": [
      "20\n"
     ]
    }
   ],
   "source": [
    "import sys\n",
    "\n",
    "N = int(sys.stdin.readline())\n",
    "rope = [int(sys.stdin.readline()) for _ in range(N)]\n",
    "rope.sort()\n",
    "ans = -1\n",
    "for idx in range(N):\n",
    "    ans = max( ans ,rope[idx]*(N-idx))\n",
    "print(ans)"
   ]
  },
  {
   "cell_type": "code",
   "execution_count": 53,
   "id": "a879fc24",
   "metadata": {},
   "outputs": [
    {
     "data": {
      "text/plain": [
       "[10, 15]"
      ]
     },
     "execution_count": 53,
     "metadata": {},
     "output_type": "execute_result"
    }
   ],
   "source": [
    "rope"
   ]
  },
  {
   "cell_type": "code",
   "execution_count": null,
   "id": "23a1f479",
   "metadata": {},
   "outputs": [
    {
     "name": "stdout",
     "output_type": "stream",
     "text": [
      "acis\n",
      "acit\n",
      "aciw\n",
      "acst\n",
      "acsw\n",
      "actw\n",
      "aist\n",
      "aisw\n",
      "aitw\n",
      "astw\n",
      "cist\n",
      "cisw\n",
      "citw\n",
      "istw\n"
     ]
    }
   ],
   "source": [
    "from itertools import combinations\n",
    "\n",
    "L, C = map(int ,sys.stdin.readline().split())\n",
    "chars = sys.stdin.readline().split()\n",
    "\n",
    "chars.sort()\n",
    "\n",
    "for comb in combinations(chars, L):\n",
    "    vowel = 0\n",
    "    for char in comb:\n",
    "        if char in {'a', 'e', 'i', 'o', 'u'}:\n",
    "            vowel +=1\n",
    "    if vowel >= 1 and L - vowel >= 2:\n",
    "        print(''.join(comb))"
   ]
  },
  {
   "cell_type": "code",
   "execution_count": null,
   "id": "22a2a313",
   "metadata": {},
   "outputs": [
    {
     "name": "stdout",
     "output_type": "stream",
     "text": [
      "55\n"
     ]
    }
   ],
   "source": [
    "N = int(sys.stdin.readline())\n",
    "\n",
    "mod = 10_007\n",
    "dp = [0] * (1002)\n",
    "\n",
    "dp[1] = 1\n",
    "dp[2] = 2\n",
    "for i in range(3,N+1):\n",
    "    dp[i] = (dp[i-1] + dp[i-2])% mod\n",
    "\n",
    "print(dp[N])"
   ]
  },
  {
   "cell_type": "code",
   "execution_count": 91,
   "id": "a428ab16",
   "metadata": {},
   "outputs": [
    {
     "name": "stdout",
     "output_type": "stream",
     "text": [
      "6\n"
     ]
    }
   ],
   "source": [
    "from itertools import combinations\n",
    "import sys \n",
    "\n",
    "sys.stdin = open(\"input.txt\", \"r\")\n",
    "c , r = map(int, sys.stdin.readline().split())\n",
    "\n",
    "dxs ,dys = [1,-1,0,0] , [0,0,1,-1]\n",
    "from collections import deque\n",
    "\n",
    "Q = deque([])\n",
    "box = [list(map(int, sys.stdin.readline().split())) for _ in range(r)]\n",
    "visited = [[0]* c for _ in range(r)]\n",
    "\n",
    "for i in range(r):\n",
    "    for j in range(c):\n",
    "        if box[i][j] == 1:\n",
    "            Q.append((i,j))\n",
    "            visited[i][j] = 1\n",
    "def can_go(row,col):\n",
    "    global r, c, visited, box\n",
    "    return 0<= row < r and 0<= col < c and not visited[row][col] and box[row][col] != -1\n",
    "\n",
    "while Q:\n",
    "    row, col = Q.popleft()\n",
    "    for dx, dy in zip(dxs,dys):\n",
    "        nr ,nc = row + dx , col + dy\n",
    "        if can_go(nr,nc):\n",
    "            Q.append((nr,nc))\n",
    "            visited[nr][nc] = visited[row][col] +1\n",
    "\n",
    "max_day = -float('inf')\n",
    "all_done = True\n",
    "\n",
    "for i in range(r):\n",
    "    for j in range(c):\n",
    "        if box[i][j] == 0:\n",
    "            if not visited[i][j]:\n",
    "                all_done = False\n",
    "            else:\n",
    "                max_day = max(max_day, visited[i][j]-1)\n",
    "\n",
    "if all_done:\n",
    "    print(max_day if max_day>=0 else 0)\n",
    "else:\n",
    "    print(-1)"
   ]
  },
  {
   "cell_type": "code",
   "execution_count": 96,
   "id": "3cce9eb2",
   "metadata": {},
   "outputs": [
    {
     "name": "stdout",
     "output_type": "stream",
     "text": [
      "61\n"
     ]
    }
   ],
   "source": [
    "N = int(input())\n",
    "\n",
    "mod = 1_000_000_000\n",
    "dp = [[0]* 10 for _ in range(N+1)]\n",
    "dp[1] = [0,1,1,1,1,1,1,1,1,1]\n",
    "for i in range(2,N+1):\n",
    "    dp_now = dp[i]\n",
    "    dp_last = dp[i-1]\n",
    "    dp_now[0] = dp_last[1]\n",
    "    dp_now[9] = dp_last[8]\n",
    "    for j in range(1,9):\n",
    "        dp_now[j] = (dp_last[j-1] + dp_last[j+1]) % mod\n",
    "    dp[i] = dp_now\n",
    "print(sum(dp[N])%mod)\n"
   ]
  },
  {
   "cell_type": "code",
   "execution_count": null,
   "id": "598775b8",
   "metadata": {},
   "outputs": [
    {
     "name": "stdout",
     "output_type": "stream",
     "text": [
      "4\n"
     ]
    }
   ],
   "source": []
  },
  {
   "cell_type": "code",
   "execution_count": 99,
   "id": "e4c2f3f2",
   "metadata": {},
   "outputs": [
    {
     "data": {
      "text/plain": [
       "'BRBRBR'"
      ]
     },
     "execution_count": 99,
     "metadata": {},
     "output_type": "execute_result"
    }
   ],
   "source": [
    "T"
   ]
  },
  {
   "cell_type": "code",
   "execution_count": 100,
   "id": "fe038dcc",
   "metadata": {},
   "outputs": [
    {
     "data": {
      "text/plain": [
       "3"
      ]
     },
     "execution_count": 100,
     "metadata": {},
     "output_type": "execute_result"
    }
   ],
   "source": [
    "red"
   ]
  },
  {
   "cell_type": "code",
   "execution_count": 101,
   "id": "beace361",
   "metadata": {},
   "outputs": [
    {
     "data": {
      "text/plain": [
       "3"
      ]
     },
     "execution_count": 101,
     "metadata": {},
     "output_type": "execute_result"
    }
   ],
   "source": [
    "blue"
   ]
  },
  {
   "cell_type": "code",
   "execution_count": null,
   "id": "35db8391",
   "metadata": {},
   "outputs": [
    {
     "name": "stdout",
     "output_type": "stream",
     "text": [
      "Infected!\n",
      "Infected!\n",
      "Infected!\n",
      "Infected!\n",
      "Infected!\n",
      "Good\n",
      "Good\n",
      "Good\n"
     ]
    },
    {
     "ename": "IndexError",
     "evalue": "string index out of range",
     "output_type": "error",
     "traceback": [
      "\u001b[31m---------------------------------------------------------------------------\u001b[39m",
      "\u001b[31mIndexError\u001b[39m                                Traceback (most recent call last)",
      "\u001b[36mCell\u001b[39m\u001b[36m \u001b[39m\u001b[32mIn[103]\u001b[39m\u001b[32m, line 10\u001b[39m\n\u001b[32m      7\u001b[39m \u001b[38;5;28;01mif\u001b[39;00m \u001b[38;5;28mlen\u001b[39m(word) <\u001b[32m3\u001b[39m:\n\u001b[32m      8\u001b[39m     \u001b[38;5;28mprint\u001b[39m(\u001b[33m'\u001b[39m\u001b[33mGood\u001b[39m\u001b[33m'\u001b[39m)\n\u001b[32m---> \u001b[39m\u001b[32m10\u001b[39m \u001b[38;5;28;01mif\u001b[39;00m \u001b[38;5;129;01mnot\u001b[39;00m \u001b[43mword\u001b[49m\u001b[43m[\u001b[49m\u001b[32;43m0\u001b[39;49m\u001b[43m]\u001b[49m == \u001b[33m'\u001b[39m\u001b[33mA\u001b[39m\u001b[33m'\u001b[39m:\n\u001b[32m     11\u001b[39m     \u001b[38;5;28;01mif\u001b[39;00m \u001b[38;5;129;01mnot\u001b[39;00m word[\u001b[32m0\u001b[39m] \u001b[38;5;129;01min\u001b[39;00m candidate:\n\u001b[32m     12\u001b[39m         \u001b[38;5;28mprint\u001b[39m(\u001b[33m\"\u001b[39m\u001b[33mGood\u001b[39m\u001b[33m\"\u001b[39m)\n",
      "\u001b[31mIndexError\u001b[39m: string index out of range"
     ]
    }
   ],
   "source": [
    "T = int(input())\n",
    "candidate = {'A','B','C','D','E','F'}\n",
    "\n",
    "for _ in range(T):\n",
    "    word = input()\n",
    "\n",
    "    if len(word) <3:\n",
    "        print('Good')\n",
    "        continue\n",
    "    if not word[0] == 'A':\n",
    "        if not word[0] in candidate:\n",
    "            print(\"Good\")\n",
    "            continue\n",
    "        word = word[1:]\n",
    "    if not word[-1] == 'C':\n",
    "        if not word[-1] in candidate:\n",
    "            print(\"Good\")\n",
    "            continue\n",
    "        word = word[:-1]\n",
    "    F = \"\"\n",
    "    for i in range(len(word)):\n",
    "        if i == 0 or word[i] != word[i-1]:\n",
    "            F += word[i]\n",
    "    if F == 'AFC':\n",
    "        print(\"Infected!\")\n",
    "    else:\n",
    "        print(\"Good\")"
   ]
  },
  {
   "cell_type": "code",
   "execution_count": null,
   "id": "c0a80779",
   "metadata": {},
   "outputs": [],
   "source": []
  }
 ],
 "metadata": {
  "kernelspec": {
   "display_name": "code_test",
   "language": "python",
   "name": "python3"
  },
  "language_info": {
   "codemirror_mode": {
    "name": "ipython",
    "version": 3
   },
   "file_extension": ".py",
   "mimetype": "text/x-python",
   "name": "python",
   "nbconvert_exporter": "python",
   "pygments_lexer": "ipython3",
   "version": "3.11.4"
  }
 },
 "nbformat": 4,
 "nbformat_minor": 5
}
